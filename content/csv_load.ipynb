{
  "metadata": {
    "language_info": {
      "codemirror_mode": {
        "name": "python",
        "version": 3
      },
      "file_extension": ".py",
      "mimetype": "text/x-python",
      "name": "python",
      "nbconvert_exporter": "python",
      "pygments_lexer": "ipython3",
      "version": "3.8"
    },
    "kernelspec": {
      "name": "python",
      "display_name": "Pyolite",
      "language": "python"
    }
  },
  "nbformat_minor": 4,
  "nbformat": 4,
  "cells": [
    {
      "cell_type": "code",
      "source": "# Below code found at https://github.com/jupyterlite/jupyterlite/issues/119\nimport pandas as pd \nimport micropip\npackage_url = \"https://raw.githubusercontent.com/innovationOUtside/ouseful_jupyterlite_utils/main/ouseful_jupyterlite_utils-0.0.1-py3-none-any.whl\"\nawait micropip.install(package_url)\n\nfrom ouseful_jupyterlite_utils import pandas_utils as pdu\n\n# use this approach if CSV data is at a remote URL\n# Via @jtpio\nURL = \"https://raw.githubusercontent.com/edgecollective/jupyterlite/main/content/my_farm_data.csv\"\ndf_remote = await pdu.read_csv_url(URL, \"\\t\")\n\n# use this approach Load CSV from local browser storage\n#Via @bollwyvl\ndf_local = await pdu.read_csv_local(\"my_farm_data.csv\", \",\")\n",
      "metadata": {
        "trusted": true
      },
      "execution_count": 4,
      "outputs": []
    },
    {
      "cell_type": "code",
      "source": "df_remote",
      "metadata": {
        "trusted": true
      },
      "execution_count": 6,
      "outputs": [
        {
          "execution_count": 6,
          "output_type": "execute_result",
          "data": {
            "text/plain": "                name,type\n0   Green Pasture,paddock\n1    Pigeon Hill,landmark\n2  Mule's Lament,landmark\n3     Red Valley,landmark",
            "text/html": "<div>\n<style scoped>\n    .dataframe tbody tr th:only-of-type {\n        vertical-align: middle;\n    }\n\n    .dataframe tbody tr th {\n        vertical-align: top;\n    }\n\n    .dataframe thead th {\n        text-align: right;\n    }\n</style>\n<table border=\"1\" class=\"dataframe\">\n  <thead>\n    <tr style=\"text-align: right;\">\n      <th></th>\n      <th>name,type</th>\n    </tr>\n  </thead>\n  <tbody>\n    <tr>\n      <th>0</th>\n      <td>Green Pasture,paddock</td>\n    </tr>\n    <tr>\n      <th>1</th>\n      <td>Pigeon Hill,landmark</td>\n    </tr>\n    <tr>\n      <th>2</th>\n      <td>Mule's Lament,landmark</td>\n    </tr>\n    <tr>\n      <th>3</th>\n      <td>Red Valley,landmark</td>\n    </tr>\n  </tbody>\n</table>\n</div>"
          },
          "metadata": {}
        }
      ]
    },
    {
      "cell_type": "code",
      "source": "df_local",
      "metadata": {
        "trusted": true
      },
      "execution_count": 7,
      "outputs": [
        {
          "execution_count": 7,
          "output_type": "execute_result",
          "data": {
            "text/plain": "            name      type\n0  Green Pasture   paddock\n1    Pigeon Hill  landmark\n2  Mule's Lament  landmark\n3     Red Valley  landmark",
            "text/html": "<div>\n<style scoped>\n    .dataframe tbody tr th:only-of-type {\n        vertical-align: middle;\n    }\n\n    .dataframe tbody tr th {\n        vertical-align: top;\n    }\n\n    .dataframe thead th {\n        text-align: right;\n    }\n</style>\n<table border=\"1\" class=\"dataframe\">\n  <thead>\n    <tr style=\"text-align: right;\">\n      <th></th>\n      <th>name</th>\n      <th>type</th>\n    </tr>\n  </thead>\n  <tbody>\n    <tr>\n      <th>0</th>\n      <td>Green Pasture</td>\n      <td>paddock</td>\n    </tr>\n    <tr>\n      <th>1</th>\n      <td>Pigeon Hill</td>\n      <td>landmark</td>\n    </tr>\n    <tr>\n      <th>2</th>\n      <td>Mule's Lament</td>\n      <td>landmark</td>\n    </tr>\n    <tr>\n      <th>3</th>\n      <td>Red Valley</td>\n      <td>landmark</td>\n    </tr>\n  </tbody>\n</table>\n</div>"
          },
          "metadata": {}
        }
      ]
    },
    {
      "cell_type": "code",
      "source": "",
      "metadata": {},
      "execution_count": null,
      "outputs": []
    }
  ]
}