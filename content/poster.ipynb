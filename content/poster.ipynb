{
  "metadata": {
    "language_info": {
      "codemirror_mode": {
        "name": "python",
        "version": 3
      },
      "file_extension": ".py",
      "mimetype": "text/x-python",
      "name": "python",
      "nbconvert_exporter": "python",
      "pygments_lexer": "ipython3",
      "version": "3.8"
    },
    "kernelspec": {
      "name": "python",
      "display_name": "Pyolite",
      "language": "python"
    }
  },
  "nbformat_minor": 4,
  "nbformat": 4,
  "cells": [
    {
      "cell_type": "code",
      "source": "import json\nfrom pyodide import to_js\nfrom IPython.display import JSON\nfrom js import Object, fetch\nfrom base64 import b64encode\n\nurl = 'https://httpbin.org/basic-auth/foo/bar'\nuserAndPass = b64encode(b\"foo:bar\").decode(\"ascii\")\nauth_header = to_js({ 'Authorization' : 'Basic %s' %  userAndPass })\n\nresp = await fetch(url,\n  method=\"GET\",\n  #body=json.dumps({ \"some\" : \"json\" }),\n  credentials=\"same-origin\",\n  headers=Object.fromEntries(auth_header,to_js({ \"Content-Type\": \"application/json\" })),\n)\nres = await resp.text()\nprint(res)\n",
      "metadata": {
        "trusted": true
      },
      "execution_count": 81,
      "outputs": [
        {
          "name": "stdout",
          "text": "{\n  \"authenticated\": true, \n  \"user\": \"foo\"\n}\n\n",
          "output_type": "stream"
        }
      ]
    },
    {
      "cell_type": "code",
      "source": "from js import XMLHttpRequest, Blob\nimport json\n\ndata = {\"a\": 1}\n\nsecond='Basic %s' %  userAndPass\n\nreq = XMLHttpRequest.new()\n\nreq.open(\"GET\", url, False)\nreq.setRequestHeader(\"Authorization\", second);\n\nblob = Blob.new([json.dumps(data)], {type : 'application/json'})\nreq.send(blob)\nprint(req.response)",
      "metadata": {
        "trusted": true
      },
      "execution_count": 87,
      "outputs": [
        {
          "name": "stdout",
          "text": "{\n  \"authenticated\": true, \n  \"user\": \"foo\"\n}\n\n",
          "output_type": "stream"
        }
      ]
    },
    {
      "cell_type": "code",
      "source": "",
      "metadata": {
        "trusted": true
      },
      "execution_count": null,
      "outputs": [
        {
          "name": "stdout",
          "text": "",
          "output_type": "stream"
        },
        {
          "name": "stdout",
          "text": "\n",
          "output_type": "stream"
        }
      ]
    }
  ]
}