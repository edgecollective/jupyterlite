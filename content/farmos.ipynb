{
  "metadata": {
    "language_info": {
      "codemirror_mode": {
        "name": "python",
        "version": 3
      },
      "file_extension": ".py",
      "mimetype": "text/x-python",
      "name": "python",
      "nbconvert_exporter": "python",
      "pygments_lexer": "ipython3",
      "version": "3.8"
    },
    "kernelspec": {
      "name": "python",
      "display_name": "Pyolite",
      "language": "python"
    }
  },
  "nbformat_minor": 4,
  "nbformat": 4,
  "cells": [
    {
      "cell_type": "markdown",
      "source": "## Get FarmOS token",
      "metadata": {}
    },
    {
      "cell_type": "code",
      "source": "import json\nfrom pyodide import to_js\nfrom IPython.display import JSON\nfrom js import Object, fetch\n\ntoken_url=\"https://waterbearcollective.farmos.net/oauth/token\"\n\nusername=\"XXXX\"\npassword=\"XXXX\"\nfull_body = \"grant_type=password&username=\"+username+\"&password=\"+password+\"&client_id=farm&scope=farm_manager\"\nresp = await fetch(token_url,\n  method=\"POST\",\nbody=full_body,  \n  headers=Object.fromEntries(to_js({ \"Content-Type\": \"application/x-www-form-urlencoded\" })),\n)\nres = await resp.text()\nrj=json.loads(res)\ntoken=rj['access_token']\ntoken_string='Bearer '+rj['access_token']\nprint(token)",
      "metadata": {
        "trusted": true
      },
      "execution_count": null,
      "outputs": []
    },
    {
      "cell_type": "markdown",
      "source": "## Retrieve land assets",
      "metadata": {
        "tags": []
      }
    },
    {
      "cell_type": "code",
      "source": "url=\"https://waterbearcollective.farmos.net/api/asset/land\"\nresp = await fetch(url,\n  method=\"GET\",\n  headers=Object.fromEntries(to_js({ \"Authorization\": token_string })),\n)\nres = await resp.text()\nJSON(json.loads(res))\n",
      "metadata": {
        "trusted": true
      },
      "execution_count": null,
      "outputs": []
    },
    {
      "cell_type": "markdown",
      "source": "## Create a land asset",
      "metadata": {}
    },
    {
      "cell_type": "code",
      "source": "url=\"https://waterbearcollective.farmos.net/api/asset/land\"\n\njson_to_send = {\n  \"data\": {\n    \"type\": \"asset--land\",\n    \"attributes\": {\n     \"name\": \"Wheeee\",\n     \"land_type\":\"bed\",\n     \"timestamp\": \"1526584271\"\n    }\n  }\n}\n\nresp = await fetch(url,\n  method=\"POST\",\n   body=json.dumps(json_to_send),\n    headers=Object.fromEntries(to_js({ \"Authorization\": token_string,\"Content-Type\": \"application/vnd.api+json\"}))\n)\nres = await resp.text()\nJSON(json.loads(res))\n\n",
      "metadata": {
        "trusted": true
      },
      "execution_count": null,
      "outputs": []
    },
    {
      "cell_type": "markdown",
      "source": "## Retrieve the API schema",
      "metadata": {
        "tags": []
      }
    },
    {
      "cell_type": "code",
      "source": "url=\"https://waterbearcollective.farmos.net/api/schema\"\n\nresp = await fetch(url,\n  method=\"GET\",\n  #body = \"grant_type=password&username=donblair&password=farmoscat999&client_id=farm&scope=farm_manager\",\n  #body=json.dumps({ \"some\" : \"json\" }),\n  #credentials=\"same-origin\",\n                   \n  headers=Object.fromEntries(to_js({ \"Authorization\": token_string })),\n  #headers=Object.fromEntries(to_js({ \"Content-Type\": \"application/json\" })),\n)\nres = await resp.text()\nJSON(json.loads(res))\n",
      "metadata": {
        "trusted": true
      },
      "execution_count": null,
      "outputs": []
    },
    {
      "cell_type": "markdown",
      "source": "## Import data from CSV file",
      "metadata": {}
    },
    {
      "cell_type": "code",
      "source": "import pandas as pd",
      "metadata": {
        "trusted": true
      },
      "execution_count": null,
      "outputs": []
    },
    {
      "cell_type": "code",
      "source": "# https://github.com/jupyterlite/jupyterlite/issues/119\n\nimport micropip\npackage_url = \"https://raw.githubusercontent.com/innovationOUtside/ouseful_jupyterlite_utils/main/ouseful_jupyterlite_utils-0.0.1-py3-none-any.whl\"\nawait micropip.install(package_url)\n\nimport micropip\n\npackage_url = \"https://raw.githubusercontent.com/innovationOUtside/ouseful_jupyterlite_utils/main/ouseful_jupyterlite_utils-0.0.1-py3-none-any.whl\"\n\nawait micropip.install(package_url)\n\nfrom ouseful_jupyterlite_utils import pandas_utils as pdu\n# if CSV data is at a remote URL, use this approach\n#from ouseful_jupyterlite_utils import pandas_utils as pdu# Load CSV from URL\n# Via @jtpio\n#URL = \"https://support.staffbase.com/hc/en-us/article_attachments/360009197031/username.csv\"\n#df = await pdu.read_csv_url(URL, \"\\t\")\n#df\n\n# Load CSV from local browser storage\n#Via @bollwyvl\ndf = await pdu.read_csv_local(\"my_farm_data.csv\", \",\")\ndf\n",
      "metadata": {
        "trusted": true
      },
      "execution_count": 41,
      "outputs": [
        {
          "execution_count": 41,
          "output_type": "execute_result",
          "data": {
            "text/plain": "            name      type\n0  Green Pasture   paddock\n1    Pigeon Hill  landmark\n2  Mule's Lament  landmark\n3     Red Valley  landmark",
            "text/html": "<div>\n<style scoped>\n    .dataframe tbody tr th:only-of-type {\n        vertical-align: middle;\n    }\n\n    .dataframe tbody tr th {\n        vertical-align: top;\n    }\n\n    .dataframe thead th {\n        text-align: right;\n    }\n</style>\n<table border=\"1\" class=\"dataframe\">\n  <thead>\n    <tr style=\"text-align: right;\">\n      <th></th>\n      <th>name</th>\n      <th>type</th>\n    </tr>\n  </thead>\n  <tbody>\n    <tr>\n      <th>0</th>\n      <td>Green Pasture</td>\n      <td>paddock</td>\n    </tr>\n    <tr>\n      <th>1</th>\n      <td>Pigeon Hill</td>\n      <td>landmark</td>\n    </tr>\n    <tr>\n      <th>2</th>\n      <td>Mule's Lament</td>\n      <td>landmark</td>\n    </tr>\n    <tr>\n      <th>3</th>\n      <td>Red Valley</td>\n      <td>landmark</td>\n    </tr>\n  </tbody>\n</table>\n</div>"
          },
          "metadata": {}
        }
      ]
    },
    {
      "cell_type": "code",
      "source": "url=\"https://waterbearcollective.farmos.net/api/asset/land\"\n\nfor i in range(0,len(df)):\n    \n    land_name = df['name'][i]\n    land_type = df['type'][i]\n    \n    jdict = {\n      \"data\": {\n        \"type\": \"asset--land\",\n        \"attributes\": {\n         \"name\": land_name,\n         \"land_type\":land_type,\n         \"timestamp\": \"1526584271\"\n        }\n      }\n    }\n\n    print(jdict)\n\n    resp = await fetch(url,\n    method=\"POST\",\n    body=json.dumps(jdict),\n    headers=Object.fromEntries(to_js({ \"Authorization\": token_string,\"Content-Type\": \"application/vnd.api+json\"}))\n    )\n    res = await resp.text()\n    JSON(json.loads(res))\n",
      "metadata": {
        "trusted": true
      },
      "execution_count": null,
      "outputs": []
    },
    {
      "cell_type": "code",
      "source": "",
      "metadata": {},
      "execution_count": null,
      "outputs": []
    }
  ]
}