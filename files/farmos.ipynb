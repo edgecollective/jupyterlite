{
  "metadata": {
    "language_info": {
      "codemirror_mode": {
        "name": "python",
        "version": 3
      },
      "file_extension": ".py",
      "mimetype": "text/x-python",
      "name": "python",
      "nbconvert_exporter": "python",
      "pygments_lexer": "ipython3",
      "version": "3.8"
    },
    "kernelspec": {
      "name": "python",
      "display_name": "Pyolite",
      "language": "python"
    }
  },
  "nbformat_minor": 4,
  "nbformat": 4,
  "cells": [
    {
      "cell_type": "markdown",
      "source": "## Get FarmOS token",
      "metadata": {}
    },
    {
      "cell_type": "code",
      "source": "import json\nfrom pyodide import to_js\nfrom IPython.display import JSON\nfrom js import Object, fetch\n\ntoken_url=\"https://waterbearcollective.farmos.net/oauth/token\"\n\nusername=\"XXXX\"\npassword=\"XXXX\"\nfull_body = \"grant_type=password&username=\"+username+\"&password=\"+password+\"&client_id=farm&scope=farm_manager\"\nresp = await fetch(token_url,\n  method=\"POST\",\nbody=full_body,  \n  headers=Object.fromEntries(to_js({ \"Content-Type\": \"application/x-www-form-urlencoded\" })),\n)\nres = await resp.text()\nrj=json.loads(res)\ntoken=rj['access_token']\ntoken_string='Bearer '+rj['access_token']\nprint(token)",
      "metadata": {
        "trusted": true
      },
      "execution_count": null,
      "outputs": []
    },
    {
      "cell_type": "markdown",
      "source": "## Retrieve land assets",
      "metadata": {
        "tags": []
      }
    },
    {
      "cell_type": "code",
      "source": "url=\"https://waterbearcollective.farmos.net/api/asset/land\"\nresp = await fetch(url,\n  method=\"GET\",\n  headers=Object.fromEntries(to_js({ \"Authorization\": token_string })),\n)\nres = await resp.text()\nJSON(json.loads(res))\n",
      "metadata": {
        "trusted": true
      },
      "execution_count": null,
      "outputs": []
    },
    {
      "cell_type": "markdown",
      "source": "## Create a land asset",
      "metadata": {}
    },
    {
      "cell_type": "code",
      "source": "url=\"https://waterbearcollective.farmos.net/api/asset/land\"\n\njson_to_send = {\n  \"data\": {\n    \"type\": \"asset--land\",\n    \"attributes\": {\n     \"name\": \"Wheeee\",\n     \"land_type\":\"bed\",\n     \"timestamp\": \"1526584271\"\n    }\n  }\n}\n\nresp = await fetch(url,\n  method=\"POST\",\n   body=json.dumps(json_to_send),\n    headers=Object.fromEntries(to_js({ \"Authorization\": token_string,\"Content-Type\": \"application/vnd.api+json\"}))\n)\nres = await resp.text()\nJSON(json.loads(res))\n\n",
      "metadata": {
        "trusted": true
      },
      "execution_count": null,
      "outputs": []
    },
    {
      "cell_type": "markdown",
      "source": "## Retrieve the API schema",
      "metadata": {
        "tags": []
      }
    },
    {
      "cell_type": "code",
      "source": "url=\"https://waterbearcollective.farmos.net/api/schema\"\n\nresp = await fetch(url,\n  method=\"GET\",\n  #body = \"grant_type=password&username=donblair&password=farmoscat999&client_id=farm&scope=farm_manager\",\n  #body=json.dumps({ \"some\" : \"json\" }),\n  #credentials=\"same-origin\",\n                   \n  headers=Object.fromEntries(to_js({ \"Authorization\": token_string })),\n  #headers=Object.fromEntries(to_js({ \"Content-Type\": \"application/json\" })),\n)\nres = await resp.text()\nJSON(json.loads(res))\n",
      "metadata": {
        "trusted": true
      },
      "execution_count": null,
      "outputs": []
    }
  ]
}